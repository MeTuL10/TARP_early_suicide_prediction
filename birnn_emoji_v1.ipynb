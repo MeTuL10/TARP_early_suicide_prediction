{
 "cells": [
  {
   "attachments": {},
   "cell_type": "markdown",
   "metadata": {},
   "source": [
    "https://towardsdatascience.com/an-easy-tutorial-about-sentiment-analysis-with-deep-learning-and-keras-2bf52b9cba91\n"
   ]
  },
  {
   "cell_type": "code",
   "execution_count": 1,
   "metadata": {},
   "outputs": [],
   "source": [
    "import pandas as pd\n",
    "from textblob import TextBlob\n",
    "import nltk\n",
    "from textblob import Word\n",
    "from nltk.corpus import stopwords\n",
    "from sklearn.preprocessing import LabelEncoder\n",
    "from sklearn.metrics import classification_report,confusion_matrix,accuracy_score\n",
    "from keras.models import Sequential\n",
    "from keras.preprocessing.text import Tokenizer\n",
    "from tensorflow.keras.preprocessing.sequence import pad_sequences\n",
    "from keras.layers import Dense, Embedding, LSTM, SpatialDropout1D,Conv1D,MaxPooling1D,GlobalMaxPooling1D,Flatten,SimpleRNN\n",
    "from keras import regularizers\n",
    "from sklearn.model_selection import train_test_split \n",
    "from tensorflow.keras.utils import to_categorical\n",
    "from sklearn import preprocessing\n",
    "from keras import layers"
   ]
  },
  {
   "cell_type": "code",
   "execution_count": 2,
   "metadata": {},
   "outputs": [],
   "source": [
    "df=pd.read_csv(\"D:\\\\vit\\\\sem6\\\\tarp\\\\Suicide_preprocessed_emoji.csv\")\n",
    "df=df.dropna()"
   ]
  },
  {
   "cell_type": "code",
   "execution_count": 3,
   "metadata": {},
   "outputs": [],
   "source": [
    "max_words = 5000\n",
    "max_len = 200\n",
    "tokenizer = Tokenizer(num_words=max_words)\n",
    "tokenizer.fit_on_texts(df['text'].values)\n",
    "sequences = tokenizer.texts_to_sequences(df['text'].values)\n",
    "comments = pad_sequences(sequences, maxlen=max_len)"
   ]
  },
  {
   "cell_type": "code",
   "execution_count": 4,
   "metadata": {},
   "outputs": [],
   "source": [
    "model3 = Sequential()\n",
    "model3.add(layers.Embedding(max_words, 40, input_length=max_len))\n",
    "model3.add(layers.Bidirectional(layers.LSTM(20,dropout=0.6)))\n",
    "model3.add(layers.Dense(3,activation='softmax'))\n",
    "model3.compile(optimizer='rmsprop',loss='categorical_crossentropy', metrics=['accuracy'])"
   ]
  },
  {
   "cell_type": "code",
   "execution_count": 5,
   "metadata": {},
   "outputs": [],
   "source": [
    "df[\"class\"]=preprocessing.LabelEncoder().fit_transform(df[\"class\"])\n",
    "X_train,X_test,y_train,y_test=train_test_split(comments,df[\"class\"],test_size=0.2)\n",
    "y_train = to_categorical(y_train, 3)\n",
    "y_test = to_categorical(y_test, 3)"
   ]
  },
  {
   "cell_type": "code",
   "execution_count": 6,
   "metadata": {},
   "outputs": [
    {
     "name": "stdout",
     "output_type": "stream",
     "text": [
      "Epoch 1/20\n",
      "5801/5801 [==============================] - 348s 59ms/step - loss: 0.2229 - accuracy: 0.9156\n",
      "Epoch 2/20\n",
      "5801/5801 [==============================] - 335s 58ms/step - loss: 0.1861 - accuracy: 0.9315\n",
      "Epoch 3/20\n",
      "5801/5801 [==============================] - 335s 58ms/step - loss: 0.1808 - accuracy: 0.9331\n",
      "Epoch 4/20\n",
      "5801/5801 [==============================] - 338s 58ms/step - loss: 0.1762 - accuracy: 0.9347\n",
      "Epoch 5/20\n",
      "5801/5801 [==============================] - 334s 58ms/step - loss: 0.1727 - accuracy: 0.9361\n",
      "Epoch 6/20\n",
      "5801/5801 [==============================] - 336s 58ms/step - loss: 0.1708 - accuracy: 0.9372\n",
      "Epoch 7/20\n",
      "5801/5801 [==============================] - 337s 58ms/step - loss: 0.1698 - accuracy: 0.9368\n",
      "Epoch 8/20\n",
      "5801/5801 [==============================] - 336s 58ms/step - loss: 0.1684 - accuracy: 0.9377\n",
      "Epoch 9/20\n",
      "5801/5801 [==============================] - 337s 58ms/step - loss: 0.1667 - accuracy: 0.9386\n",
      "Epoch 10/20\n",
      "5801/5801 [==============================] - 335s 58ms/step - loss: 0.1662 - accuracy: 0.9386\n",
      "Epoch 11/20\n",
      "5801/5801 [==============================] - 336s 58ms/step - loss: 0.1657 - accuracy: 0.9393\n",
      "Epoch 12/20\n",
      "5801/5801 [==============================] - 346s 60ms/step - loss: 0.1646 - accuracy: 0.9396\n",
      "Epoch 13/20\n",
      "5801/5801 [==============================] - 336s 58ms/step - loss: 0.1633 - accuracy: 0.9400\n",
      "Epoch 14/20\n",
      "5801/5801 [==============================] - 336s 58ms/step - loss: 0.1631 - accuracy: 0.9402\n",
      "Epoch 15/20\n",
      "5801/5801 [==============================] - 340s 59ms/step - loss: 0.1623 - accuracy: 0.9402\n",
      "Epoch 16/20\n",
      "5801/5801 [==============================] - 338s 58ms/step - loss: 0.1620 - accuracy: 0.9409\n",
      "Epoch 17/20\n",
      "5801/5801 [==============================] - 337s 58ms/step - loss: 0.1610 - accuracy: 0.9412\n",
      "Epoch 18/20\n",
      "5801/5801 [==============================] - 337s 58ms/step - loss: 0.1613 - accuracy: 0.9410\n",
      "Epoch 19/20\n",
      "5801/5801 [==============================] - 337s 58ms/step - loss: 0.1602 - accuracy: 0.9415\n",
      "Epoch 20/20\n",
      "5801/5801 [==============================] - 339s 58ms/step - loss: 0.1605 - accuracy: 0.9411\n",
      "1451/1451 [==============================] - 22s 14ms/step - loss: 0.1736 - accuracy: 0.9382\n"
     ]
    },
    {
     "data": {
      "text/plain": [
       "[0.17356473207473755, 0.9381694197654724]"
      ]
     },
     "execution_count": 6,
     "metadata": {},
     "output_type": "execute_result"
    }
   ],
   "source": [
    "model3.fit(X_train, y_train, epochs=20)\n",
    "model3.evaluate(X_test,y_test)"
   ]
  }
 ],
 "metadata": {
  "kernelspec": {
   "display_name": "base",
   "language": "python",
   "name": "python3"
  },
  "language_info": {
   "codemirror_mode": {
    "name": "ipython",
    "version": 3
   },
   "file_extension": ".py",
   "mimetype": "text/x-python",
   "name": "python",
   "nbconvert_exporter": "python",
   "pygments_lexer": "ipython3",
   "version": "3.9.13"
  },
  "orig_nbformat": 4,
  "vscode": {
   "interpreter": {
    "hash": "f45bd3e5b831a322bd3f71c25d8b34384573d05cb8a4c9c57d323e5c6682e756"
   }
  }
 },
 "nbformat": 4,
 "nbformat_minor": 2
}
