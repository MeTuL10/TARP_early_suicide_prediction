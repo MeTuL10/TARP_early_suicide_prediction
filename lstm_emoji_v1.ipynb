{
 "cells": [
  {
   "cell_type": "code",
   "execution_count": 1,
   "metadata": {},
   "outputs": [],
   "source": [
    "import pandas as pd\n",
    "from textblob import TextBlob\n",
    "import nltk\n",
    "from textblob import Word\n",
    "from nltk.corpus import stopwords\n",
    "from sklearn.preprocessing import LabelEncoder\n",
    "from sklearn.metrics import classification_report,confusion_matrix,accuracy_score\n",
    "from keras.models import Sequential\n",
    "from keras.preprocessing.text import Tokenizer\n",
    "from tensorflow.keras.preprocessing.sequence import pad_sequences\n",
    "from keras.layers import Dense, Embedding, LSTM, SpatialDropout1D,Conv1D,MaxPooling1D,GlobalMaxPooling1D,Flatten,SimpleRNN\n",
    "from keras import regularizers\n",
    "from sklearn.model_selection import train_test_split \n",
    "from tensorflow.keras.utils import to_categorical\n",
    "from sklearn import preprocessing\n",
    "from keras import layers"
   ]
  },
  {
   "cell_type": "code",
   "execution_count": 10,
   "metadata": {},
   "outputs": [],
   "source": [
    "df=pd.read_csv(\"D:\\\\vit\\\\sem6\\\\tarp\\\\Suicide_preprocessed_emoji.csv\")\n",
    "df=df.dropna()"
   ]
  },
  {
   "cell_type": "code",
   "execution_count": 11,
   "metadata": {},
   "outputs": [],
   "source": [
    "dfff=df.iloc[0:10,1:3]"
   ]
  },
  {
   "cell_type": "code",
   "execution_count": 13,
   "metadata": {},
   "outputs": [],
   "source": [
    "dfff.to_json(r'D:\\\\vit\\\\sem6\\\\tarp\\\\jackson.json')"
   ]
  },
  {
   "cell_type": "code",
   "execution_count": 3,
   "metadata": {},
   "outputs": [],
   "source": [
    "\n",
    "max_words = 5000\n",
    "max_len = 200\n",
    "\n",
    "tokenizer = Tokenizer(num_words=max_words)\n",
    "tokenizer.fit_on_texts(df['text'].values)\n",
    "sequences = tokenizer.texts_to_sequences(df['text'].values)\n",
    "comments = pad_sequences(sequences, maxlen=max_len)"
   ]
  },
  {
   "cell_type": "code",
   "execution_count": 4,
   "metadata": {},
   "outputs": [
    {
     "name": "stdout",
     "output_type": "stream",
     "text": [
      "232005\n"
     ]
    }
   ],
   "source": [
    "print(len(comments))"
   ]
  },
  {
   "cell_type": "code",
   "execution_count": 7,
   "metadata": {},
   "outputs": [],
   "source": [
    "\n",
    "model2 = Sequential()\n",
    "model2.add(layers.Embedding(max_words, 20)) #The embedding layer\n",
    "model2.add(layers.LSTM(15,dropout=0.5)) #Our LSTM layer\n",
    "model2.add(layers.Dense(3,activation='softmax'))\n",
    "model2.compile(optimizer='rmsprop',loss='categorical_crossentropy', metrics=['accuracy'])"
   ]
  },
  {
   "cell_type": "code",
   "execution_count": 8,
   "metadata": {},
   "outputs": [],
   "source": [
    "df[\"class\"]=preprocessing.LabelEncoder().fit_transform(df[\"class\"])\n",
    "#X_train,X_test,y_train,y_test=train_test_split(X,df[\"class\"],test_size=0.2)\n",
    "X_train,X_test,y_train,y_test=train_test_split(comments,df[\"class\"],test_size=0.2)\n",
    "y_train = to_categorical(y_train, 3)\n",
    "y_test = to_categorical(y_test, 3)"
   ]
  },
  {
   "cell_type": "code",
   "execution_count": 9,
   "metadata": {},
   "outputs": [
    {
     "name": "stdout",
     "output_type": "stream",
     "text": [
      "Epoch 1/20\n",
      "5801/5801 [==============================] - 257s 44ms/step - loss: 0.2355 - accuracy: 0.9099\n",
      "Epoch 2/20\n",
      "5801/5801 [==============================] - 256s 44ms/step - loss: 0.1869 - accuracy: 0.9305\n",
      "Epoch 3/20\n",
      "5801/5801 [==============================] - 264s 46ms/step - loss: 0.1805 - accuracy: 0.9335\n",
      "Epoch 4/20\n",
      "5801/5801 [==============================] - 251s 43ms/step - loss: 0.1766 - accuracy: 0.9349\n",
      "Epoch 5/20\n",
      "5801/5801 [==============================] - 252s 43ms/step - loss: 0.1735 - accuracy: 0.9360\n",
      "Epoch 6/20\n",
      "5801/5801 [==============================] - 250s 43ms/step - loss: 0.1717 - accuracy: 0.9369\n",
      "Epoch 7/20\n",
      "5801/5801 [==============================] - 251s 43ms/step - loss: 0.1699 - accuracy: 0.9377\n",
      "Epoch 8/20\n",
      "5801/5801 [==============================] - 250s 43ms/step - loss: 0.1694 - accuracy: 0.9380\n",
      "Epoch 9/20\n",
      "5801/5801 [==============================] - 252s 43ms/step - loss: 0.1677 - accuracy: 0.9384\n",
      "Epoch 10/20\n",
      "5801/5801 [==============================] - 251s 43ms/step - loss: 0.1664 - accuracy: 0.9392\n",
      "Epoch 11/20\n",
      "5801/5801 [==============================] - 252s 43ms/step - loss: 0.1662 - accuracy: 0.9392\n",
      "Epoch 12/20\n",
      "5801/5801 [==============================] - 250s 43ms/step - loss: 0.1654 - accuracy: 0.9393\n",
      "Epoch 13/20\n",
      "5801/5801 [==============================] - 258s 45ms/step - loss: 0.1649 - accuracy: 0.9391\n",
      "Epoch 14/20\n",
      "5801/5801 [==============================] - 255s 44ms/step - loss: 0.1652 - accuracy: 0.9400\n",
      "Epoch 15/20\n",
      "5801/5801 [==============================] - 254s 44ms/step - loss: 0.1647 - accuracy: 0.9400\n",
      "Epoch 16/20\n",
      "5801/5801 [==============================] - 254s 44ms/step - loss: 0.1649 - accuracy: 0.9395\n",
      "Epoch 17/20\n",
      "5801/5801 [==============================] - 255s 44ms/step - loss: 0.1650 - accuracy: 0.9403\n",
      "Epoch 18/20\n",
      "5801/5801 [==============================] - 257s 44ms/step - loss: 0.1646 - accuracy: 0.9401\n",
      "Epoch 19/20\n",
      "5801/5801 [==============================] - 256s 44ms/step - loss: 0.1649 - accuracy: 0.9399\n",
      "Epoch 20/20\n",
      "5801/5801 [==============================] - 253s 44ms/step - loss: 0.1646 - accuracy: 0.9400\n",
      "1451/1451 [==============================] - 19s 13ms/step - loss: 0.1797 - accuracy: 0.9361\n"
     ]
    },
    {
     "data": {
      "text/plain": [
       "[0.17970353364944458, 0.9361436367034912]"
      ]
     },
     "execution_count": 9,
     "metadata": {},
     "output_type": "execute_result"
    }
   ],
   "source": [
    "model2.fit(X_train, y_train, epochs=20)\n",
    "model2.evaluate(X_test,y_test)"
   ]
  }
 ],
 "metadata": {
  "kernelspec": {
   "display_name": "base",
   "language": "python",
   "name": "python3"
  },
  "language_info": {
   "codemirror_mode": {
    "name": "ipython",
    "version": 3
   },
   "file_extension": ".py",
   "mimetype": "text/x-python",
   "name": "python",
   "nbconvert_exporter": "python",
   "pygments_lexer": "ipython3",
   "version": "3.9.13"
  },
  "orig_nbformat": 4,
  "vscode": {
   "interpreter": {
    "hash": "f45bd3e5b831a322bd3f71c25d8b34384573d05cb8a4c9c57d323e5c6682e756"
   }
  }
 },
 "nbformat": 4,
 "nbformat_minor": 2
}
